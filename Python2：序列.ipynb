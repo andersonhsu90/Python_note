{
  "nbformat": 4,
  "nbformat_minor": 0,
  "metadata": {
    "colab": {
      "name": "Python2：序列",
      "provenance": [],
      "authorship_tag": "ABX9TyPackqDZqBRVUSEocQPvCnf",
      "include_colab_link": true
    },
    "kernelspec": {
      "name": "python3",
      "display_name": "Python 3"
    }
  },
  "cells": [
    {
      "cell_type": "markdown",
      "metadata": {
        "id": "view-in-github",
        "colab_type": "text"
      },
      "source": [
        "<a href=\"https://colab.research.google.com/github/andersonhsu90/Python_note/blob/main/Python2%EF%BC%9A%E5%BA%8F%E5%88%97.ipynb\" target=\"_parent\"><img src=\"https://colab.research.google.com/assets/colab-badge.svg\" alt=\"Open In Colab\"/></a>"
      ]
    },
    {
      "cell_type": "markdown",
      "metadata": {
        "id": "x-Q5opzCZW7-"
      },
      "source": [
        ">列表的建立與刪除"
      ]
    },
    {
      "cell_type": "code",
      "metadata": {
        "id": "d-RR8_rbY35W"
      },
      "source": [
        "x = ['a', 'b', 1, 2]  # 可用 = 直接賦值\r\n",
        "x = []          # 建立空列表"
      ],
      "execution_count": null,
      "outputs": []
    },
    {
      "cell_type": "code",
      "metadata": {
        "colab": {
          "base_uri": "https://localhost:8080/"
        },
        "id": "6JunpAdeZ6_c",
        "outputId": "700e3d04-4588-46f6-dda2-1d8b246f194d"
      },
      "source": [
        "x = list((3,5,7,9,11))  # 可用list()建立列表，將元組轉為列表\r\n",
        "print(x)\r\n",
        "x = list(range(1,10,2)) # 將range物件轉為列表\r\n",
        "print(x)\r\n",
        "x = list('hello world') # 將字串轉為列表\r\n",
        "print(x)\r\n",
        "x = list({1,3,5})    # 將集合轉為列表\r\n",
        "print(x)\r\n",
        "x = list({'a':3, 'b':2, 'c':1}) # 將字典的鍵轉為列表\r\n",
        "print(x)\r\n",
        "x = list({'a':3, 'b':2, 'c':1}.items()) # 將字典的「鍵：值」對轉換成列表\r\n",
        "print(x)\r\n",
        "x = list()  # 建立空列表"
      ],
      "execution_count": null,
      "outputs": [
        {
          "output_type": "stream",
          "text": [
            "[3, 5, 7, 9, 11]\n",
            "[1, 3, 5, 7, 9]\n",
            "['h', 'e', 'l', 'l', 'o', ' ', 'w', 'o', 'r', 'l', 'd']\n",
            "[1, 3, 5]\n",
            "['a', 'b', 'c']\n",
            "[('a', 3), ('b', 2), ('c', 1)]\n"
          ],
          "name": "stdout"
        }
      ]
    },
    {
      "cell_type": "code",
      "metadata": {
        "colab": {
          "base_uri": "https://localhost:8080/"
        },
        "id": "5vzbBt1Lbnju",
        "outputId": "ffa700c2-dc5a-42c6-87a8-eaedd4b192d9"
      },
      "source": [
        "import random\r\n",
        "x = list(range(10))\r\n",
        "random.shuffle(x)   # 打亂元素順序\r\n",
        "print(x)\r\n",
        "print(x[0])\r\n",
        "print(x[1])\r\n",
        "print(x[-1])     # 負號也可以，-1為最後一個元素\r\n",
        "print(x[9])"
      ],
      "execution_count": null,
      "outputs": [
        {
          "output_type": "stream",
          "text": [
            "[5, 0, 8, 2, 4, 7, 1, 6, 3, 9]\n",
            "5\n",
            "0\n",
            "9\n",
            "9\n"
          ],
          "name": "stdout"
        }
      ]
    },
    {
      "cell_type": "code",
      "metadata": {
        "colab": {
          "base_uri": "https://localhost:8080/"
        },
        "id": "n5jueJITcJQz",
        "outputId": "42a75659-b959-454d-84bb-ebaec86d7e4e"
      },
      "source": [
        "x = [1,2,3]\r\n",
        "del x[1]    # 可使用del刪除元素或是整個列表\r\n",
        "print(x)\r\n",
        "x = {'a':3, 'b':2, 'c':1}\r\n",
        "del x['a']\r\n",
        "print(x)"
      ],
      "execution_count": null,
      "outputs": [
        {
          "output_type": "stream",
          "text": [
            "[1, 3]\n",
            "{'b': 2, 'c': 1}\n"
          ],
          "name": "stdout"
        }
      ]
    },
    {
      "cell_type": "code",
      "metadata": {
        "id": "wWewciUMc2iU"
      },
      "source": [
        "x = (1,2,3)\r\n",
        "del x[0]    # 元組不得改變值"
      ],
      "execution_count": null,
      "outputs": []
    },
    {
      "cell_type": "code",
      "metadata": {
        "id": "L9NwNzkmcexz"
      },
      "source": [
        "del x    # 刪除後的列表不能再呼叫\r\n",
        "print(x)"
      ],
      "execution_count": null,
      "outputs": []
    },
    {
      "cell_type": "markdown",
      "metadata": {
        "id": "K3lWgr0vdBUs"
      },
      "source": [
        ">列表常用的方法"
      ]
    },
    {
      "cell_type": "markdown",
      "metadata": {
        "id": "LI_hq-cq9Xp1"
      },
      "source": [
        ">>append(), insert(), extend()"
      ]
    },
    {
      "cell_type": "code",
      "metadata": {
        "id": "J6nwwc4idEdk",
        "colab": {
          "base_uri": "https://localhost:8080/"
        },
        "outputId": "74187210-b788-47ef-f4cf-246fc8a7a41c"
      },
      "source": [
        "x = [1, 2, 3]\r\n",
        "print(id(x))      \r\n",
        "x.append(4)      # append：在序列後面加上元素\r\n",
        "print(x)\r\n",
        "x.insert(0, 0)     # insert：在序列指定位置上加上元素(位置, 元素)\r\n",
        "print(x)\r\n",
        "x.extend([5, 6, 7])  # extend：在序列後加上一串序列\r\n",
        "print(x)\r\n",
        "print(id(x))      # 改變序列後，序列位址不改變(原地操作)"
      ],
      "execution_count": null,
      "outputs": [
        {
          "output_type": "stream",
          "text": [
            "139627174618504\n",
            "[1, 2, 3, 4]\n",
            "[0, 1, 2, 3, 4]\n",
            "[0, 1, 2, 3, 4, 5, 6, 7]\n",
            "139627174618504\n"
          ],
          "name": "stdout"
        }
      ]
    },
    {
      "cell_type": "markdown",
      "metadata": {
        "id": "I6UvCazc9pUj"
      },
      "source": [
        ">>用運算子 + 和 * 可達到一樣的目的"
      ]
    },
    {
      "cell_type": "code",
      "metadata": {
        "colab": {
          "base_uri": "https://localhost:8080/"
        },
        "id": "Eh7WgEDV90Er",
        "outputId": "f2cac3a4-d445-4b57-d519-80bfc64c252e"
      },
      "source": [
        "x = [1, 2, 3]\r\n",
        "print(id(x))\r\n",
        "x = x + [4]   # 連接兩個列表\r\n",
        "print(x)\r\n",
        "print(id(x))    # 注意：位址會改變(非原地操作)\r\n",
        "x = x * 2    # 複製列表元素\r\n",
        "print(x)"
      ],
      "execution_count": null,
      "outputs": [
        {
          "output_type": "stream",
          "text": [
            "139627175056328\n",
            "[1, 2, 3, 4]\n",
            "139627033855496\n",
            "[1, 2, 3, 4, 1, 2, 3, 4]\n"
          ],
          "name": "stdout"
        }
      ]
    },
    {
      "cell_type": "markdown",
      "metadata": {
        "id": "cx1V2uU6-njv"
      },
      "source": [
        ">>pop(), remove(), clear() (以下均為原地操作)"
      ]
    },
    {
      "cell_type": "code",
      "metadata": {
        "colab": {
          "base_uri": "https://localhost:8080/"
        },
        "id": "qUrvFDfl-uS4",
        "outputId": "e3ef9b1e-0e29-4c36-ff9a-864644cb4f93"
      },
      "source": [
        "x = [1, 2, 3, 4, 5]\r\n",
        "print(x.pop())         # 彈出並返回尾部元素\r\n",
        "print(x)\r\n",
        "x.clear()           # 刪除所以元素\r\n",
        "print(x)\r\n",
        "x = [1, 1, 2, 2, 3, 3]\r\n",
        "x.remove(2)          # 刪除首個值為2的元素\r\n",
        "print(x)\r\n",
        "del x[3]           # 刪除指定位置的元素\r\n",
        "print(x)"
      ],
      "execution_count": null,
      "outputs": [
        {
          "output_type": "stream",
          "text": [
            "5\n",
            "[1, 2, 3, 4]\n",
            "[]\n",
            "[1, 1, 2, 3, 3]\n",
            "[1, 1, 2, 3]\n"
          ],
          "name": "stdout"
        }
      ]
    },
    {
      "cell_type": "markdown",
      "metadata": {
        "id": "xb519HRFAHBU"
      },
      "source": [
        ">>count(), index()"
      ]
    },
    {
      "cell_type": "code",
      "metadata": {
        "colab": {
          "base_uri": "https://localhost:8080/",
          "height": 239
        },
        "id": "F6J_t5QpAKf7",
        "outputId": "0ff314e4-d646-4998-edd7-d168895dc1a1"
      },
      "source": [
        "x = [1, 1, 2, 2, 3, 3, 3, 3]\r\n",
        "print(x.count(3))      # 元素3在序列中出現的數量\r\n",
        "print(x.index(2))      # 元素2在序列中第一次出現的位置\r\n",
        "print(x.index(5))      # 元素若沒有的話，返回異常"
      ],
      "execution_count": null,
      "outputs": [
        {
          "output_type": "stream",
          "text": [
            "4\n",
            "2\n"
          ],
          "name": "stdout"
        },
        {
          "output_type": "error",
          "ename": "ValueError",
          "evalue": "ignored",
          "traceback": [
            "\u001b[0;31m---------------------------------------------------------------------------\u001b[0m",
            "\u001b[0;31mValueError\u001b[0m                                Traceback (most recent call last)",
            "\u001b[0;32m<ipython-input-6-44ca13a358bc>\u001b[0m in \u001b[0;36m<module>\u001b[0;34m()\u001b[0m\n\u001b[1;32m      2\u001b[0m \u001b[0mprint\u001b[0m\u001b[0;34m(\u001b[0m\u001b[0mx\u001b[0m\u001b[0;34m.\u001b[0m\u001b[0mcount\u001b[0m\u001b[0;34m(\u001b[0m\u001b[0;36m3\u001b[0m\u001b[0;34m)\u001b[0m\u001b[0;34m)\u001b[0m\u001b[0;34m\u001b[0m\u001b[0;34m\u001b[0m\u001b[0m\n\u001b[1;32m      3\u001b[0m \u001b[0mprint\u001b[0m\u001b[0;34m(\u001b[0m\u001b[0mx\u001b[0m\u001b[0;34m.\u001b[0m\u001b[0mindex\u001b[0m\u001b[0;34m(\u001b[0m\u001b[0;36m2\u001b[0m\u001b[0;34m)\u001b[0m\u001b[0;34m)\u001b[0m\u001b[0;34m\u001b[0m\u001b[0;34m\u001b[0m\u001b[0m\n\u001b[0;32m----> 4\u001b[0;31m \u001b[0mprint\u001b[0m\u001b[0;34m(\u001b[0m\u001b[0mx\u001b[0m\u001b[0;34m.\u001b[0m\u001b[0mindex\u001b[0m\u001b[0;34m(\u001b[0m\u001b[0;36m5\u001b[0m\u001b[0;34m)\u001b[0m\u001b[0;34m)\u001b[0m\u001b[0;34m\u001b[0m\u001b[0;34m\u001b[0m\u001b[0m\n\u001b[0m",
            "\u001b[0;31mValueError\u001b[0m: 5 is not in list"
          ]
        }
      ]
    },
    {
      "cell_type": "code",
      "metadata": {
        "colab": {
          "base_uri": "https://localhost:8080/"
        },
        "id": "cq3GXmSiAp9z",
        "outputId": "c1be16bc-e7a4-4bfb-c0c9-fd41842c1364"
      },
      "source": [
        "print(5 in x)     # 返回元素是否在序列中\r\n",
        "print(3 in x)"
      ],
      "execution_count": null,
      "outputs": [
        {
          "output_type": "stream",
          "text": [
            "False\n",
            "True\n"
          ],
          "name": "stdout"
        }
      ]
    },
    {
      "cell_type": "markdown",
      "metadata": {
        "id": "jcHIcgD0Bdiz"
      },
      "source": [
        ">>sort(), reverse()"
      ]
    },
    {
      "cell_type": "code",
      "metadata": {
        "colab": {
          "base_uri": "https://localhost:8080/"
        },
        "id": "1SLDlN9-BiGP",
        "outputId": "18aab950-59b8-4df2-d46b-3743c62ccf9e"
      },
      "source": [
        "import random\r\n",
        "x = list(range(11))\r\n",
        "random.shuffle(x)\r\n",
        "print(x)\r\n",
        "x.sort()       # sort有許多參數，可指定條件排列\r\n",
        "print(x)\r\n",
        "x.reverse()     # 倒序\r\n",
        "print(x)"
      ],
      "execution_count": null,
      "outputs": [
        {
          "output_type": "stream",
          "text": [
            "[3, 6, 10, 8, 9, 7, 5, 4, 2, 1, 0]\n",
            "[0, 1, 2, 3, 4, 5, 6, 7, 8, 9, 10]\n",
            "[10, 9, 8, 7, 6, 5, 4, 3, 2, 1, 0]\n"
          ],
          "name": "stdout"
        }
      ]
    },
    {
      "cell_type": "code",
      "metadata": {
        "colab": {
          "base_uri": "https://localhost:8080/"
        },
        "id": "M8OHGEmITRzR",
        "outputId": "dffa6eed-1a87-437f-87b4-11f9e7edb7e7"
      },
      "source": [
        "random.shuffle(x)\r\n",
        "x.sort(key = str)\r\n",
        "print(x)"
      ],
      "execution_count": null,
      "outputs": [
        {
          "output_type": "stream",
          "text": [
            "[0, 1, 10, 2, 3, 4, 5, 6, 7, 8, 9]\n"
          ],
          "name": "stdout"
        }
      ]
    },
    {
      "cell_type": "markdown",
      "metadata": {
        "id": "Dz3gPeIxTvw0"
      },
      "source": [
        ">>sorted(), reversed()   (以上函數返回新的序列)"
      ]
    },
    {
      "cell_type": "code",
      "metadata": {
        "colab": {
          "base_uri": "https://localhost:8080/"
        },
        "id": "00USb9YdT5lI",
        "outputId": "61f3df30-cc1f-4537-de55-6ea5332f4177"
      },
      "source": [
        "x = list(range(11))\r\n",
        "random.shuffle(x)\r\n",
        "print(sorted(x))        # 返回一個新的序列\r\n",
        "print(list(reversed(x)))    # 返回一個逆序的反覆運算物件"
      ],
      "execution_count": null,
      "outputs": [
        {
          "output_type": "stream",
          "text": [
            "[0, 1, 2, 3, 4, 5, 6, 7, 8, 9, 10]\n",
            "[1, 2, 5, 8, 4, 7, 10, 3, 0, 6, 9]\n"
          ],
          "name": "stdout"
        }
      ]
    },
    {
      "cell_type": "markdown",
      "metadata": {
        "id": "gylmfiiOU6FJ"
      },
      "source": [
        ">>>使用key可達成更複雜的排列(請查詢)"
      ]
    },
    {
      "cell_type": "markdown",
      "metadata": {
        "id": "T0ltsyBXVCx4"
      },
      "source": [
        ">>內建函數對列表的操作"
      ]
    },
    {
      "cell_type": "code",
      "metadata": {
        "colab": {
          "base_uri": "https://localhost:8080/"
        },
        "id": "cdLjiIPHVCCp",
        "outputId": "c8692278-d98a-4b2f-ce7a-36e4afa96fb9"
      },
      "source": [
        "import random\r\n",
        "x = list(range(11))\r\n",
        "random.shuffle(x)\r\n",
        "print(x)\r\n",
        "print(max(x))       # 返回最大值\r\n",
        "print(max(x, key=str))  # 返回最大值, 以指定規則\r\n",
        "print(min(x))       # 返回最小值\r\n",
        "print(sum(x))       # 返回總和\r\n",
        "print(len(x))       # 返回長度"
      ],
      "execution_count": null,
      "outputs": [
        {
          "output_type": "stream",
          "text": [
            "[6, 4, 7, 8, 1, 10, 9, 2, 5, 0, 3]\n",
            "10\n",
            "9\n",
            "0\n",
            "55\n",
            "11\n"
          ],
          "name": "stdout"
        }
      ]
    },
    {
      "cell_type": "code",
      "metadata": {
        "colab": {
          "base_uri": "https://localhost:8080/"
        },
        "id": "sq2Ux9RJWEEg",
        "outputId": "754f3272-c04e-4b57-fb7d-182eacc7e324"
      },
      "source": [
        "y = list(zip(x, [1]*11))  # zip函數組合多個列表元素成為元組\r\n",
        "print(y)\r\n",
        "y = list(zip(range(1, 4))) # 也可用於一個序列或反覆運算物件\r\n",
        "print(y)\r\n",
        "y = list(zip(['a', 'b', 'c'], [1, 2]))  # 若兩個列表的長度不同，以短的為主\r\n",
        "print(y)\r\n",
        "y = list(range(11))\r\n",
        "random.shuffle(y)\r\n",
        "print(y)\r\n",
        "print(enumerate(y))    # enumerate返回若干下標與元素的反覆運算物件\r\n",
        "print(list(enumerate(y))) "
      ],
      "execution_count": null,
      "outputs": [
        {
          "output_type": "stream",
          "text": [
            "[(0, 1), (2, 1), (4, 1), (7, 1), (8, 1), (9, 1), (10, 1), (6, 1), (5, 1), (1, 1), (3, 1)]\n",
            "[(1,), (2,), (3,)]\n",
            "[('a', 1), ('b', 2)]\n",
            "[6, 3, 8, 2, 9, 4, 1, 10, 7, 5, 0]\n",
            "<enumerate object at 0x7fe010fc73a8>\n",
            "[(0, 6), (1, 3), (2, 8), (3, 2), (4, 9), (5, 4), (6, 1), (7, 10), (8, 7), (9, 5), (10, 0)]\n"
          ],
          "name": "stdout"
        }
      ]
    },
    {
      "cell_type": "code",
      "metadata": {
        "colab": {
          "base_uri": "https://localhost:8080/"
        },
        "id": "Jbw90IA-XmM2",
        "outputId": "39f0f3d0-d757-4e7c-f73a-a2fb0368a054"
      },
      "source": [
        "x = list(map(str, range(5)))  # 將元素轉換完字串\r\n",
        "print(x)\r\n",
        "def add5(v):\r\n",
        "  return v+5\r\n",
        "x = list(map(add5, range(10))) # 將函式映射到序列\r\n",
        "print(x)\r\n",
        "def add(x,y):\r\n",
        "  return x+y\r\n",
        "x = list(map(add, range(5), range(5, 10))) # 將雙參數映射到序列上\r\n",
        "print(x)"
      ],
      "execution_count": null,
      "outputs": [
        {
          "output_type": "stream",
          "text": [
            "['0', '1', '2', '3', '4']\n",
            "[5, 6, 7, 8, 9, 10, 11, 12, 13, 14]\n",
            "[5, 7, 9, 11, 13]\n"
          ],
          "name": "stdout"
        }
      ]
    },
    {
      "cell_type": "code",
      "metadata": {
        "colab": {
          "base_uri": "https://localhost:8080/"
        },
        "id": "tzs5hDWobYmP",
        "outputId": "a218f026-6153-4000-ee39-796f2fcc0a8e"
      },
      "source": [
        "from functools import reduce\r\n",
        "seq = [1,2,3,4,5,6,7,8,9]\r\n",
        "print(reduce(add, range(10)))\r\n",
        "# 依次接收兩個元素，由左而右累積，依序作用於序列"
      ],
      "execution_count": null,
      "outputs": [
        {
          "output_type": "stream",
          "text": [
            "45\n"
          ],
          "name": "stdout"
        }
      ]
    },
    {
      "cell_type": "code",
      "metadata": {
        "colab": {
          "base_uri": "https://localhost:8080/"
        },
        "id": "ubFEPOavaJyv",
        "outputId": "b204a6f5-f3da-4ac4-ae09-2e980f6a8869"
      },
      "source": [
        "seq = ['foo', 'x41', '?!', '***']\r\n",
        "def func(x):\r\n",
        "  return x.isalnum()         # 測試是否為數字或字母\r\n",
        "print(filter(func, seq))        # 回傳函數回傳值為TRUE的元素所組成的序列的物件\r\n",
        "print(list(filter(func, seq)))\r\n",
        "print(list(filter(None, [1,2,3,4,0,0,5,6,7,8]))) # 如果函式是None, 則由等價於True的所有元素組成序列"
      ],
      "execution_count": null,
      "outputs": [
        {
          "output_type": "stream",
          "text": [
            "<filter object at 0x7fe010ee52e8>\n",
            "['foo', 'x41']\n",
            "[1, 2, 3, 4, 5, 6, 7, 8]\n"
          ],
          "name": "stdout"
        }
      ]
    },
    {
      "cell_type": "code",
      "metadata": {
        "colab": {
          "base_uri": "https://localhost:8080/"
        },
        "id": "K9uTICgFcC7F",
        "outputId": "3ed5146a-dfc0-43b3-883c-98a3ebaca65d"
      },
      "source": [
        "x = [random.randint(1, 10) for i in range(10)]\r\n",
        "y = [random.randint(1, 10) for i in range(10)]\r\n",
        "import operator    # 實現向量運算\r\n",
        "print(sum(map(operator.mul, x, y)))  # 向量內積\r\n",
        "print(list(map(operator.add, x, y)))"
      ],
      "execution_count": null,
      "outputs": [
        {
          "output_type": "stream",
          "text": [
            "289\n",
            "[11, 13, 11, 7, 13, 17, 15, 8, 9, 11]\n"
          ],
          "name": "stdout"
        }
      ]
    },
    {
      "cell_type": "markdown",
      "metadata": {
        "id": "IlOD9w6_d5nG"
      },
      "source": [
        ">列表推導式"
      ]
    },
    {
      "cell_type": "code",
      "metadata": {
        "colab": {
          "base_uri": "https://localhost:8080/"
        },
        "id": "2jAkoJOKd-p0",
        "outputId": "d1038164-eeef-47d4-fbba-96c08e1ac287"
      },
      "source": [
        "aList = [x*x for x in range(10)]\r\n",
        "print(aList)\r\n",
        "# ---------\r\n",
        "# 相等於\r\n",
        "# ---------\r\n",
        "aList = []\r\n",
        "for x in range(10):\r\n",
        "  aList.append(x*x)\r\n",
        "print(aList)"
      ],
      "execution_count": null,
      "outputs": [
        {
          "output_type": "stream",
          "text": [
            "[0, 1, 4, 9, 16, 25, 36, 49, 64, 81]\n",
            "[0, 1, 4, 9, 16, 25, 36, 49, 64, 81]\n"
          ],
          "name": "stdout"
        }
      ]
    },
    {
      "cell_type": "code",
      "metadata": {
        "colab": {
          "base_uri": "https://localhost:8080/"
        },
        "id": "3JSwq3QnNOPA",
        "outputId": "210a4aad-a259-4a0c-bc8c-24ef34522e0a"
      },
      "source": [
        "freshfruit = [' banana', ' loganberry ', 'passion fruit ']\r\n",
        "aList = [w.strip() for w in freshfruit]\r\n",
        "print(aList)\r\n",
        "# ---------\r\n",
        "# 相等於\r\n",
        "# ---------\r\n",
        "aList = []\r\n",
        "for item in freshfruit:\r\n",
        "  aList.append(item.strip())\r\n",
        "print(aList)\r\n",
        "# ---------\r\n",
        "# 相等於\r\n",
        "# ---------\r\n",
        "aList = list(map(str.strip, freshfruit))\r\n",
        "print(aList)"
      ],
      "execution_count": null,
      "outputs": [
        {
          "output_type": "stream",
          "text": [
            "['banana', 'loganberry', 'passion fruit']\n",
            "['banana', 'loganberry', 'passion fruit']\n",
            "['banana', 'loganberry', 'passion fruit']\n"
          ],
          "name": "stdout"
        }
      ]
    },
    {
      "cell_type": "markdown",
      "metadata": {
        "id": "kd0J3fP5OkqA"
      },
      "source": [
        ">>>同理，我們可以使用推導式求總和"
      ]
    },
    {
      "cell_type": "code",
      "metadata": {
        "colab": {
          "base_uri": "https://localhost:8080/"
        },
        "id": "F86ZSik2OtUn",
        "outputId": "7a8efb91-75b1-4d49-f479-6d0a757b8151"
      },
      "source": [
        "x = sum([2**i for i in range(64)])\r\n",
        "print(x)"
      ],
      "execution_count": null,
      "outputs": [
        {
          "output_type": "stream",
          "text": [
            "18446744073709551615\n"
          ],
          "name": "stdout"
        }
      ]
    },
    {
      "cell_type": "markdown",
      "metadata": {
        "id": "a0Q1eTO1PMvX"
      },
      "source": [
        ">>使用推導式平鋪巢狀迴圈"
      ]
    },
    {
      "cell_type": "code",
      "metadata": {
        "colab": {
          "base_uri": "https://localhost:8080/"
        },
        "id": "pYm273t8PUJI",
        "outputId": "753b2b08-fddb-4db6-df36-0fe610c16cd3"
      },
      "source": [
        "vec = [[1, 2, 3], [4, 5, 6], [7, 8, 9]]\r\n",
        "aList = [num for elem in vec for num in elem]\r\n",
        "print(aList)\r\n",
        "# ----------\r\n",
        "# 相等於\r\n",
        "# ----------\r\n",
        "aList = []\r\n",
        "for elem in vec:\r\n",
        "  for num in elem:\r\n",
        "    aList.append(num)\r\n",
        "print(aList)"
      ],
      "execution_count": null,
      "outputs": [
        {
          "output_type": "stream",
          "text": [
            "[1, 2, 3, 4, 5, 6, 7, 8, 9]\n",
            "[1, 2, 3, 4, 5, 6, 7, 8, 9]\n"
          ],
          "name": "stdout"
        }
      ]
    },
    {
      "cell_type": "markdown",
      "metadata": {
        "id": "q6hIveJBQKbA"
      },
      "source": [
        ">>過濾不符合的元素"
      ]
    },
    {
      "cell_type": "markdown",
      "metadata": {
        "id": "7sUzdtgpQRJP"
      },
      "source": [
        ">>>列出python檔案(請查詢)"
      ]
    },
    {
      "cell_type": "code",
      "metadata": {
        "colab": {
          "base_uri": "https://localhost:8080/"
        },
        "id": "MzKKFk2YQYQp",
        "outputId": "7f264718-53b5-4d13-8744-f1c7bcc2b766"
      },
      "source": [
        "vec = [-1, -4, 6, 7.5, -2.3, 9, -11]\r\n",
        "aList = [i for i in vec if i>0]    # 過濾出大於0的元素\r\n",
        "print(aList)"
      ],
      "execution_count": null,
      "outputs": [
        {
          "output_type": "stream",
          "text": [
            "[6, 7.5, 9]\n"
          ],
          "name": "stdout"
        }
      ]
    },
    {
      "cell_type": "markdown",
      "metadata": {
        "id": "Zn-z62q5Se1B"
      },
      "source": [
        ">>>也可和字典一起使用"
      ]
    },
    {
      "cell_type": "code",
      "metadata": {
        "colab": {
          "base_uri": "https://localhost:8080/"
        },
        "id": "3hCGpxUcSmXc",
        "outputId": "8d0b349c-70ce-4fbc-8b79-07aaa538da7c"
      },
      "source": [
        "scores ={\"Zhang San\":45, \"Li Si\":78, \"Wang Wu\":40, \"Zhou Liu\":96, \"Zhao Qi\":65}\r\n",
        "highest = max(scores.values())   # 最高分\r\n",
        "lowest = min(scores.values())   # 最高分\r\n",
        "print(highest)\r\n",
        "print(lowest)\r\n",
        "average = sum(scores.values())/len(scores)    # 求平均\r\n",
        "print(average)\r\n",
        "highestPerson = [name for name, score in scores.items() if score == highest]  # 找最高分的人\r\n",
        "print(highestPerson)"
      ],
      "execution_count": null,
      "outputs": [
        {
          "output_type": "stream",
          "text": [
            "96\n",
            "40\n",
            "64.8\n",
            "['Zhou Liu']\n"
          ],
          "name": "stdout"
        }
      ]
    },
    {
      "cell_type": "markdown",
      "metadata": {
        "id": "t_RK4f7zUhiz"
      },
      "source": [
        ">>使用推導式找尋最大值的位置"
      ]
    },
    {
      "cell_type": "code",
      "metadata": {
        "colab": {
          "base_uri": "https://localhost:8080/"
        },
        "id": "SPya---wUoR5",
        "outputId": "971babe8-a007-46cb-a899-389e59fd4cbc"
      },
      "source": [
        "from random import randint\r\n",
        "x = [randint(1,10) for i in range(20)]\r\n",
        "m = max(x)\r\n",
        "print(m)\r\n",
        "print(x)\r\n",
        "aList = [index for index, value in enumerate(x) if value == m]\r\n",
        "print(aList)"
      ],
      "execution_count": null,
      "outputs": [
        {
          "output_type": "stream",
          "text": [
            "9\n",
            "[4, 9, 8, 8, 7, 7, 7, 2, 1, 9, 9, 2, 9, 3, 8, 7, 6, 1, 5, 7]\n",
            "[1, 9, 10, 12]\n"
          ],
          "name": "stdout"
        }
      ]
    },
    {
      "cell_type": "markdown",
      "metadata": {
        "id": "yR1_CL31VRHL"
      },
      "source": [
        ">>在推導式中使用多個迴圈，實現多種元素組合"
      ]
    },
    {
      "cell_type": "code",
      "metadata": {
        "colab": {
          "base_uri": "https://localhost:8080/"
        },
        "id": "ceXLflTtVedp",
        "outputId": "89fba8b8-7f4f-40b9-fe82-98cbd276c490"
      },
      "source": [
        "aList = [(x,y) for x in [1, 2, 3] for y in [3, 1, 4] if x!=y]\r\n",
        "print(aList)\r\n",
        "# ---------\r\n",
        "# 相等於\r\n",
        "# ---------\r\n",
        "result = []\r\n",
        "for x in [1, 2, 3]:\r\n",
        "  for y in [3, 1, 4]:\r\n",
        "    if x!=y:\r\n",
        "      result.append((x,y))\r\n",
        "print(result)"
      ],
      "execution_count": null,
      "outputs": [
        {
          "output_type": "stream",
          "text": [
            "[(1, 3), (1, 4), (2, 3), (2, 1), (2, 4), (3, 1), (3, 4)]\n",
            "[(1, 3), (1, 4), (2, 3), (2, 1), (2, 4), (3, 1), (3, 4)]\n"
          ],
          "name": "stdout"
        }
      ]
    },
    {
      "cell_type": "markdown",
      "metadata": {
        "id": "6E6aZI9bWgMx"
      },
      "source": [
        ">>推導式實現矩陣轉置"
      ]
    },
    {
      "cell_type": "code",
      "metadata": {
        "colab": {
          "base_uri": "https://localhost:8080/"
        },
        "id": "f_CzduDsWf_x",
        "outputId": "1d3edc4d-aa1e-4948-e222-1199f1484566"
      },
      "source": [
        "matrix = [[1, 2, 3, 4], [5, 6, 7, 8], [9, 10, 11, 12]]\r\n",
        "aList = [[row[i] for row in matrix] for i in range(4)]\r\n",
        "print(aList)\r\n",
        "\r\n",
        "# ----------\r\n",
        "# 相等於\r\n",
        "# ----------\r\n",
        "\r\n",
        "# 使用zip和list實現\r\n",
        "aList = list(map(list, zip(*matrix)))\r\n",
        "print(aList)\r\n",
        "\r\n",
        "# ----------\r\n",
        "# 相等於\r\n",
        "# ----------\r\n",
        "\r\n",
        "result = []\r\n",
        "for i in range(len(matrix)+1):\r\n",
        "  temp = []\r\n",
        "  for row in matrix:\r\n",
        "    temp.append(row[i])\r\n",
        "  result.append(temp)\r\n",
        "print(result)"
      ],
      "execution_count": null,
      "outputs": [
        {
          "output_type": "stream",
          "text": [
            "[[1, 5, 9], [2, 6, 10], [3, 7, 11], [4, 8, 12]]\n",
            "[[1, 5, 9], [2, 6, 10], [3, 7, 11], [4, 8, 12]]\n",
            "[[1, 5, 9], [2, 6, 10], [3, 7, 11], [4, 8, 12]]\n"
          ],
          "name": "stdout"
        }
      ]
    },
    {
      "cell_type": "markdown",
      "metadata": {
        "id": "zAlphXdlbZoH"
      },
      "source": [
        ">>推導式可以使用函數或是複雜的運算式"
      ]
    },
    {
      "cell_type": "code",
      "metadata": {
        "colab": {
          "base_uri": "https://localhost:8080/"
        },
        "id": "Z_fuLaSzbi5I",
        "outputId": "40ea6cf2-d21e-4b37-90a2-162422d65aa4"
      },
      "source": [
        "def f(v):\r\n",
        "  if v%2 == 0:\r\n",
        "    v = v**2\r\n",
        "  else:\r\n",
        "    v = v+1\r\n",
        "  return v\r\n",
        "aList = [f(v) for v in [2, 3, 4, -1] if v>0]\r\n",
        "print(aList)\r\n",
        "aList = [v**2 if v%2 == 0 else v+1 for v in [2, 3, 4, -1] if v>0]\r\n",
        "print(aList)"
      ],
      "execution_count": null,
      "outputs": [
        {
          "output_type": "stream",
          "text": [
            "[4, 4, 16]\n",
            "[4, 4, 16]\n"
          ],
          "name": "stdout"
        }
      ]
    },
    {
      "cell_type": "markdown",
      "metadata": {
        "id": "LZ0Bo_29cn6_"
      },
      "source": [
        ">>推導式也支援檔案物件反覆運算(請查詢)"
      ]
    },
    {
      "cell_type": "markdown",
      "metadata": {
        "id": "MFCXPtx4cweh"
      },
      "source": [
        ">>使用推導式產生100以內的質數"
      ]
    },
    {
      "cell_type": "code",
      "metadata": {
        "colab": {
          "base_uri": "https://localhost:8080/"
        },
        "id": "mVb5HA1AcvC_",
        "outputId": "e594d00e-dfa5-41fc-dfc5-6aff9d4d6d0b"
      },
      "source": [
        "from math import sqrt\r\n",
        "aList = [p for p in range(2, 100) if 0 not in [p%d for d in range(2, int(sqrt(p))+1)]]\r\n",
        "print(aList)"
      ],
      "execution_count": null,
      "outputs": [
        {
          "output_type": "stream",
          "text": [
            "[2, 3, 5, 7, 11, 13, 17, 19, 23, 29, 31, 37, 41, 43, 47, 53, 59, 61, 67, 71, 73, 79, 83, 89, 97]\n"
          ],
          "name": "stdout"
        }
      ]
    },
    {
      "cell_type": "markdown",
      "metadata": {
        "id": "Otq7KFNGKfOs"
      },
      "source": [
        ">切片"
      ]
    },
    {
      "cell_type": "markdown",
      "metadata": {
        "id": "ZV_WrjpiRNbG"
      },
      "source": [
        ">>使用切片取的列表部分元素"
      ]
    },
    {
      "cell_type": "code",
      "metadata": {
        "colab": {
          "base_uri": "https://localhost:8080/",
          "height": 331
        },
        "id": "SCYucN_wKis7",
        "outputId": "e8447fdb-31e8-4056-9d47-dd16a1e4eced"
      },
      "source": [
        "aList = [3, 4, 5, 6, 7, 9, 11, 13, 15, 17]\r\n",
        "print(aList[::])    # 返回包含元列表中所有的元素的新列表\r\n",
        "print(aList[::-1])   # 返回原列表中的所有元素的逆序列表\r\n",
        "print(aList[::2])   # 隔一個取一個，取得位於偶數位置的元素\r\n",
        "print(aList[::3])\r\n",
        "print(aList[1::2])   # 隔一個取一個，取得位於奇數位置的元素\r\n",
        "print(aList[3:6])   # 指定切片的開始與結束位置\r\n",
        "print(aList[0:100])  # 當切片位置大於列表長度時，從列表尾部切斷\r\n",
        "print(aList[100:])   # 當開始位置大於列表長度時，返回空列表\r\n",
        "print(aList[100])   # 返回異常，不允許越界存取"
      ],
      "execution_count": null,
      "outputs": [
        {
          "output_type": "stream",
          "text": [
            "[3, 4, 5, 6, 7, 9, 11, 13, 15, 17]\n",
            "[17, 15, 13, 11, 9, 7, 6, 5, 4, 3]\n",
            "[3, 5, 7, 11, 15]\n",
            "[3, 6, 11, 17]\n",
            "[4, 6, 9, 13, 17]\n",
            "[6, 7, 9]\n",
            "[3, 4, 5, 6, 7, 9, 11, 13, 15, 17]\n",
            "[]\n"
          ],
          "name": "stdout"
        },
        {
          "output_type": "error",
          "ename": "IndexError",
          "evalue": "ignored",
          "traceback": [
            "\u001b[0;31m---------------------------------------------------------------------------\u001b[0m",
            "\u001b[0;31mIndexError\u001b[0m                                Traceback (most recent call last)",
            "\u001b[0;32m<ipython-input-1-724db036281f>\u001b[0m in \u001b[0;36m<module>\u001b[0;34m()\u001b[0m\n\u001b[1;32m      8\u001b[0m \u001b[0mprint\u001b[0m\u001b[0;34m(\u001b[0m\u001b[0maList\u001b[0m\u001b[0;34m[\u001b[0m\u001b[0;36m0\u001b[0m\u001b[0;34m:\u001b[0m\u001b[0;36m100\u001b[0m\u001b[0;34m]\u001b[0m\u001b[0;34m)\u001b[0m  \u001b[0;31m# 當切片位置大於列表長度時，從列表尾部切斷\u001b[0m\u001b[0;34m\u001b[0m\u001b[0;34m\u001b[0m\u001b[0m\n\u001b[1;32m      9\u001b[0m \u001b[0mprint\u001b[0m\u001b[0;34m(\u001b[0m\u001b[0maList\u001b[0m\u001b[0;34m[\u001b[0m\u001b[0;36m100\u001b[0m\u001b[0;34m:\u001b[0m\u001b[0;34m]\u001b[0m\u001b[0;34m)\u001b[0m   \u001b[0;31m# 當開始位置大於列表長度時，返回空列表\u001b[0m\u001b[0;34m\u001b[0m\u001b[0;34m\u001b[0m\u001b[0m\n\u001b[0;32m---> 10\u001b[0;31m \u001b[0mprint\u001b[0m\u001b[0;34m(\u001b[0m\u001b[0maList\u001b[0m\u001b[0;34m[\u001b[0m\u001b[0;36m100\u001b[0m\u001b[0;34m]\u001b[0m\u001b[0;34m)\u001b[0m   \u001b[0;31m# 返回異常，不允許越界存取\u001b[0m\u001b[0;34m\u001b[0m\u001b[0;34m\u001b[0m\u001b[0m\n\u001b[0m",
            "\u001b[0;31mIndexError\u001b[0m: list index out of range"
          ]
        }
      ]
    },
    {
      "cell_type": "markdown",
      "metadata": {
        "id": "1qlZp5XGRSKi"
      },
      "source": [
        ">>使用切片對列表進行增、刪、減"
      ]
    },
    {
      "cell_type": "code",
      "metadata": {
        "colab": {
          "base_uri": "https://localhost:8080/"
        },
        "id": "NY-BbyD7RaF6",
        "outputId": "a34a7397-6c31-4b0b-ea53-5255919630a3"
      },
      "source": [
        "aList = [3, 5, 7]\r\n",
        "print(aList[len(aList):])   # 會輸出空列表\r\n",
        "aList[len(aList):] = [9]  # 在尾部增加元素\r\n",
        "print(aList)\r\n",
        "aList[:3] = [1, 2, 3]   # 替換列表元素\r\n",
        "print(aList)\r\n",
        "aList[:3] = []       # 刪除列表元素\r\n",
        "print(aList)"
      ],
      "execution_count": null,
      "outputs": [
        {
          "output_type": "stream",
          "text": [
            "[]\n",
            "[3, 5, 7, 9]\n",
            "[1, 2, 3, 9]\n",
            "[9]\n"
          ],
          "name": "stdout"
        }
      ]
    },
    {
      "cell_type": "markdown",
      "metadata": {
        "id": "UuRiuvAXRLCc"
      },
      "source": [
        ">>"
      ]
    },
    {
      "cell_type": "code",
      "metadata": {
        "id": "KwF44Qk9SWix",
        "colab": {
          "base_uri": "https://localhost:8080/"
        },
        "outputId": "cc76c340-2a16-43af-a948-688e188d10ab"
      },
      "source": [
        "aList = list(range(10))\r\n",
        "print(aList)\r\n",
        "aList[::2] = [0] * (len(aList)//2)  # 替換列表元素\r\n",
        "print(aList)\r\n",
        "aList[3:3] = [4, 5, 6]        # 在指定位置插入元素( [起始位置:長度] )\r\n",
        "print(aList)\r\n"
      ],
      "execution_count": null,
      "outputs": [
        {
          "output_type": "stream",
          "text": [
            "[0, 1, 2, 3, 4, 5, 6, 7, 8, 9]\n",
            "[0, 1, 0, 3, 0, 5, 0, 7, 0, 9]\n",
            "[0, 1, 0, 4, 5, 6, 3, 0, 5, 0, 7, 0, 9]\n"
          ],
          "name": "stdout"
        }
      ]
    },
    {
      "cell_type": "code",
      "metadata": {
        "id": "Tz4NG0A0JjLc"
      },
      "source": [
        "# 切片為淺複製，改變序列元素，位址不同\r\n",
        "aList = [3, 5, 7]\r\n",
        "bList = aList\r\n",
        "print(id(aList) == id(bList))\r\n",
        "bList = aList[::]           # 淺複製，位址改變\r\n",
        "print(id(aList) == id(bList))\r\n",
        "print(aList is bList)         # 注意，淺複製不為同一物件\r\n",
        "bList[0] = 8\r\n",
        "print(id(aList) == id(bList))     # 注意，序列改變，位址改變\r\n",
        "\r\n",
        "print(\"--------------------------\")\r\n",
        "print(\"             \")\r\n",
        "print(\"--------------------------\")\r\n",
        "\r\n",
        "x = [1, 2, 3]\r\n",
        "y = [1, 2, 3]\r\n",
        "print(id(x) == id(y))        # 給予同意陣列給不同變數，位址不同\r\n",
        "y.append(4)\r\n",
        "print(x)               # 改變y的值不影響x序列\r\n",
        "print(y)\r\n",
        "\r\n",
        "print(\"--------------------------\")\r\n",
        "print(\"             \")\r\n",
        "print(\"--------------------------\")\r\n",
        "\r\n",
        "x = list(range(10))\r\n",
        "# x[::2] = [3, 5]    陣列不等長，且左邊不連續，拋出異常\r\n",
        "x[::2] = [1, 1, 1, 1, 1]\r\n",
        "print(x)\r\n",
        "del x[::2]           # 刪除陣列中不連續的元素\r\n",
        "print(x)"
      ],
      "execution_count": null,
      "outputs": []
    }
  ]
}