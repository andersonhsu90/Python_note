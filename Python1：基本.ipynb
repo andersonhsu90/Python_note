{
  "nbformat": 4,
  "nbformat_minor": 0,
  "metadata": {
    "colab": {
      "name": "Python1：基本",
      "provenance": [],
      "authorship_tag": "ABX9TyN3zcIFd0XxnryyMBqyuKv5",
      "include_colab_link": true
    },
    "kernelspec": {
      "name": "python3",
      "display_name": "Python 3"
    }
  },
  "cells": [
    {
      "cell_type": "markdown",
      "metadata": {
        "id": "view-in-github",
        "colab_type": "text"
      },
      "source": [
        "<a href=\"https://colab.research.google.com/github/andersonhsu90/Python_note/blob/main/Python1%EF%BC%9A%E5%9F%BA%E6%9C%AC.ipynb\" target=\"_parent\"><img src=\"https://colab.research.google.com/assets/colab-badge.svg\" alt=\"Open In Colab\"/></a>"
      ]
    },
    {
      "cell_type": "markdown",
      "metadata": {
        "id": "EOGMwuqE4SmB"
      },
      "source": [
        "**Python基本**\r\n"
      ]
    },
    {
      "cell_type": "markdown",
      "metadata": {
        "id": "vRki5Je-4qe4"
      },
      "source": [
        "> 型別"
      ]
    },
    {
      "cell_type": "code",
      "metadata": {
        "colab": {
          "base_uri": "https://localhost:8080/"
        },
        "id": "mAkpM4Vx4D7L",
        "outputId": "7015ff4b-efd0-4917-a2de-5a5c5a2ba612"
      },
      "source": [
        "x=3       #Don't need to declare variables. \r\n",
        "print(type(x))  #The type is defined by the value.\r\n",
        "y=0.3\r\n",
        "print(type(y))\r\n",
        "z='s'\r\n",
        "print(type(z))\r\n",
        "a=[1,2,3]\r\n",
        "print(type(a))\r\n",
        "print(isinstance(x, int)) #isinstance check the variable's type\r\n",
        "b=(1,2,3)\r\n",
        "print(type(b))\r\n",
        "c={'x':1, 'y':2}\r\n",
        "print(type(c))\r\n",
        "print(type(c) in (list, tuple, dict)) # 檢查是否為這三個type其中之一"
      ],
      "execution_count": null,
      "outputs": [
        {
          "output_type": "stream",
          "text": [
            "<class 'int'>\n",
            "<class 'float'>\n",
            "<class 'str'>\n",
            "<class 'list'>\n",
            "True\n",
            "<class 'tuple'>\n",
            "<class 'dict'>\n",
            "True\n"
          ],
          "name": "stdout"
        }
      ]
    },
    {
      "cell_type": "markdown",
      "metadata": {
        "id": "sorbDlmG4RET"
      },
      "source": [
        "\r\n",
        "\r\n",
        "> 運算\r\n",
        "\r\n"
      ]
    },
    {
      "cell_type": "code",
      "metadata": {
        "colab": {
          "base_uri": "https://localhost:8080/"
        },
        "id": "o8DZ8XLl6VuQ",
        "outputId": "6fa9e234-3c2c-4389-f0a4-12fb69b11859"
      },
      "source": [
        "print(x+3) \r\n",
        "print(x-3)\r\n",
        "print(x*2)\r\n",
        "print(x/2)\r\n",
        "print(x**2) # '**' 冪次運算\r\n",
        "print(x//2) # '//' 整商\r\n",
        "print(x%2) # '%' 餘數\r\n"
      ],
      "execution_count": null,
      "outputs": [
        {
          "output_type": "stream",
          "text": [
            "6\n",
            "0\n",
            "6\n",
            "1.5\n",
            "9\n",
            "1\n",
            "1\n"
          ],
          "name": "stdout"
        }
      ]
    },
    {
      "cell_type": "markdown",
      "metadata": {
        "id": "JWIHveTd7FtB"
      },
      "source": [
        "\r\n",
        "\r\n",
        "> 複數運算\r\n",
        "\r\n"
      ]
    },
    {
      "cell_type": "code",
      "metadata": {
        "colab": {
          "base_uri": "https://localhost:8080/"
        },
        "id": "UEknOoCE7FEZ",
        "outputId": "9b58fd3f-371b-4eb2-afd9-0987a49b9d8f"
      },
      "source": [
        "x=3+4j # 'j' 代表虛部\r\n",
        "y=5+6j\r\n",
        "print(x+y)\r\n",
        "print(x-y)\r\n",
        "print(x*y)\r\n",
        "print(x/y)\r\n",
        "print(abs(x))    # 'abs' 絕對值\r\n",
        "print(x.imag)    # '.imag' 虛部\r\n",
        "print(x.real)    # '.real' 實部\r\n",
        "print(x.conjugate()) # '.conjugate()' 共軛複數"
      ],
      "execution_count": null,
      "outputs": [
        {
          "output_type": "stream",
          "text": [
            "(8+10j)\n",
            "(-2-2j)\n",
            "(-9+38j)\n",
            "(0.6393442622950819+0.03278688524590165j)\n",
            "5.0\n",
            "4.0\n",
            "3.0\n",
            "(3-4j)\n"
          ],
          "name": "stdout"
        }
      ]
    },
    {
      "cell_type": "markdown",
      "metadata": {
        "id": "R1E40fRW8Cw4"
      },
      "source": [
        "\r\n",
        "\r\n",
        "> 分數運算\r\n",
        "\r\n"
      ]
    },
    {
      "cell_type": "code",
      "metadata": {
        "colab": {
          "base_uri": "https://localhost:8080/"
        },
        "id": "HKnxdkQp8F7e",
        "outputId": "c270fb82-b69e-447e-e0c1-468652bb9f64"
      },
      "source": [
        "from fractions import Fraction\r\n",
        "x = Fraction(3,5)\r\n",
        "y = Fraction(3,7)\r\n",
        "print(x)\r\n",
        "print(x.numerator)    # 'numerator' 分子\r\n",
        "print(x.denominator)  # 'denominator' 分母\r\n",
        "print(x+y)       # 能通分\r\n",
        "print(x*y)\r\n",
        "print(x/y)\r\n",
        "print(x-y)\r\n",
        "print(x*2)"
      ],
      "execution_count": null,
      "outputs": [
        {
          "output_type": "stream",
          "text": [
            "3/5\n",
            "3\n",
            "5\n",
            "36/35\n",
            "9/35\n",
            "7/5\n",
            "6/35\n",
            "6/5\n"
          ],
          "name": "stdout"
        }
      ]
    },
    {
      "cell_type": "markdown",
      "metadata": {
        "id": "3WgAjG0f9MlQ"
      },
      "source": [
        "\r\n",
        "\r\n",
        "> 位址：允許多個變數指向同一個值(but 改變後就不一樣了)\r\n"
      ]
    },
    {
      "cell_type": "code",
      "metadata": {
        "colab": {
          "base_uri": "https://localhost:8080/"
        },
        "id": "B-79s9DR9MD4",
        "outputId": "a05128f0-fe8c-45d6-ab70-dcb6aed08bdc"
      },
      "source": [
        "x=3\r\n",
        "print(id(x)) # id()可提取地址\r\n",
        "y=x\r\n",
        "print(id(y)) # 和x一樣\r\n",
        "x=x+6\r\n",
        "print(id(x)) # 改變\r\n",
        "print(id(y)) # 沒變\r\n",
        "templist=[1,1,1]\r\n",
        "print(id(templist[0])==id(templist[1])==id(templist[2]))\r\n",
        "# 一樣的值 -> 一樣的地址"
      ],
      "execution_count": null,
      "outputs": [
        {
          "output_type": "stream",
          "text": [
            "10914560\n",
            "10914560\n",
            "10914752\n",
            "10914560\n",
            "True\n"
          ],
          "name": "stdout"
        }
      ]
    },
    {
      "cell_type": "markdown",
      "metadata": {
        "id": "4ba_5en--myH"
      },
      "source": [
        "\r\n",
        "\r\n",
        "> 變數名稱的定義(須注意有不能用的)\r\n",
        "\r\n"
      ]
    },
    {
      "cell_type": "code",
      "metadata": {
        "colab": {
          "base_uri": "https://localhost:8080/"
        },
        "id": "JzNOlNGI-mbI",
        "outputId": "ebc08681-4025-4074-a3a3-c81560a9d8f5"
      },
      "source": [
        "print('abc'.isidentifier())   # 'isidentifier' 檢驗可以的變數名稱\r\n",
        "print('3abc'.isidentifier())  # 不得使用數字開頭\r\n",
        "print('_3abc'.isidentifier())  # 底線可以開頭\r\n",
        "print('__3abc'.isidentifier()) \r\n",
        "print(',__3abc'.isidentifier()) # 變數名稱不能有標點符號\r\n",
        "print('__3abc)'.isidentifier())\r\n",
        "print('a,bc'.isidentifier())"
      ],
      "execution_count": null,
      "outputs": [
        {
          "output_type": "stream",
          "text": [
            "True\n",
            "False\n",
            "True\n",
            "True\n",
            "False\n",
            "False\n",
            "False\n"
          ],
          "name": "stdout"
        }
      ]
    },
    {
      "cell_type": "markdown",
      "metadata": {
        "id": "BKovD_pH_8Qv"
      },
      "source": [
        "**常用內建函數**"
      ]
    },
    {
      "cell_type": "markdown",
      "metadata": {
        "id": "drDuLHNMAJSH"
      },
      "source": [
        "\r\n",
        "\r\n",
        "> 搜尋內建函式及用法\r\n",
        "\r\n"
      ]
    },
    {
      "cell_type": "code",
      "metadata": {
        "id": "FaUgD5fTAH-f"
      },
      "source": [
        "dir(__builtins__) # 'dir' 列出內涵的函式"
      ],
      "execution_count": null,
      "outputs": []
    },
    {
      "cell_type": "code",
      "metadata": {
        "id": "iUuUJaezA2OO"
      },
      "source": [
        "dir('math') # 或是函式庫"
      ],
      "execution_count": null,
      "outputs": []
    },
    {
      "cell_type": "code",
      "metadata": {
        "id": "y3AzNL8TAq2P"
      },
      "source": [
        "import math\r\n",
        "help(math.sin)  # 用'help'找函式使用方法"
      ],
      "execution_count": null,
      "outputs": []
    },
    {
      "cell_type": "markdown",
      "metadata": {
        "id": "LwUNCUeVCNFf"
      },
      "source": [
        "\r\n",
        "\r\n",
        "> 運算子使用(除了運算)\r\n",
        "\r\n"
      ]
    },
    {
      "cell_type": "markdown",
      "metadata": {
        "id": "rj-CHAT6E4j2"
      },
      "source": [
        "\r\n",
        "\r\n",
        ">> 合併和延長\r\n",
        "\r\n",
        "\r\n",
        "\r\n"
      ]
    },
    {
      "cell_type": "code",
      "metadata": {
        "id": "cHTcQWTCEDFb"
      },
      "source": [
        "print([1,2,3]+[4,5,6]) # '+' 連接列表\r\n",
        "print((1,2,3)+(4,))  # 連接元組\r\n",
        "print('abc'+'123')   # 連接字串\r\n",
        "print([1,2,3]*3)\r\n",
        "print((1,2,3)*3)\r\n",
        "print('abc'*3)"
      ],
      "execution_count": null,
      "outputs": []
    },
    {
      "cell_type": "markdown",
      "metadata": {
        "id": "ONvtOJhaFBHv"
      },
      "source": [
        ">>集合運算子"
      ]
    },
    {
      "cell_type": "code",
      "metadata": {
        "id": "HVGwkgoHFDo-"
      },
      "source": [
        "{1,2,3,4,5} - {3} # 差集"
      ],
      "execution_count": null,
      "outputs": []
    },
    {
      "cell_type": "code",
      "metadata": {
        "id": "aTGLemhtFsQ5"
      },
      "source": [
        "{1,2,3,4,5,6} | {6} # 聯集"
      ],
      "execution_count": null,
      "outputs": []
    },
    {
      "cell_type": "code",
      "metadata": {
        "id": "XloFrZnHFtRH"
      },
      "source": [
        "{1,2,3,4,5} & {3}  # 交集"
      ],
      "execution_count": null,
      "outputs": []
    },
    {
      "cell_type": "code",
      "metadata": {
        "id": "eFKDCQiHF2Wv"
      },
      "source": [
        "{1,2,3,4,5,6} ^ {5,6,7,8}  # 對稱差集"
      ],
      "execution_count": null,
      "outputs": []
    },
    {
      "cell_type": "markdown",
      "metadata": {
        "id": "7HGzF5CKGWnY"
      },
      "source": [
        ">>格式化輸出"
      ]
    },
    {
      "cell_type": "code",
      "metadata": {
        "id": "347sKLNkGWL3"
      },
      "source": [
        "'%c, %d' % (65,65)"
      ],
      "execution_count": null,
      "outputs": []
    },
    {
      "cell_type": "markdown",
      "metadata": {
        "id": "cEkUPB6pGmW2"
      },
      "source": [
        ">>比大小(除了數字)"
      ]
    },
    {
      "cell_type": "code",
      "metadata": {
        "id": "Imazs9O3Grw4"
      },
      "source": [
        "1 < 3 < 5"
      ],
      "execution_count": null,
      "outputs": []
    },
    {
      "cell_type": "code",
      "metadata": {
        "id": "Nd4N_Ud6GwIH"
      },
      "source": [
        "3 < 5 > 2  # 和理解一樣(與C語言不同)"
      ],
      "execution_count": null,
      "outputs": []
    },
    {
      "cell_type": "code",
      "metadata": {
        "id": "r2iOOiWnG724"
      },
      "source": [
        "1 > 6 < 8"
      ],
      "execution_count": null,
      "outputs": []
    },
    {
      "cell_type": "code",
      "metadata": {
        "id": "0L0aMwqmHBHu"
      },
      "source": [
        "'Hello' > 'world' # 比較字串大小(與ASCII編碼有關)"
      ],
      "execution_count": null,
      "outputs": []
    },
    {
      "cell_type": "code",
      "metadata": {
        "id": "0LYh3t7DIVI_"
      },
      "source": [
        "[1,2,3] < [1,2,4] # 比較列表大小"
      ],
      "execution_count": null,
      "outputs": []
    },
    {
      "cell_type": "code",
      "metadata": {
        "id": "s0f4kM-nIe0H"
      },
      "source": [
        "'Hello' > 3  # 不同型別比大小 沒有意義"
      ],
      "execution_count": null,
      "outputs": []
    },
    {
      "cell_type": "markdown",
      "metadata": {
        "id": "WDEPHvtZIzjz"
      },
      "source": [
        ">>'in' 用於成員測試"
      ]
    },
    {
      "cell_type": "code",
      "metadata": {
        "id": "5kceHXW0I7as"
      },
      "source": [
        "3 in [1,2,3]"
      ],
      "execution_count": null,
      "outputs": []
    },
    {
      "cell_type": "code",
      "metadata": {
        "id": "i-GcrnvfJBeX"
      },
      "source": [
        "5 in range(1,10,1) # 'range' 產生指定範圍數字的內建函數"
      ],
      "execution_count": null,
      "outputs": []
    },
    {
      "cell_type": "code",
      "metadata": {
        "id": "xBy_rDLnJQbv"
      },
      "source": [
        "'abc' in 'abcdefg'"
      ],
      "execution_count": null,
      "outputs": []
    },
    {
      "cell_type": "code",
      "metadata": {
        "id": "ikF5Yb31JXlA"
      },
      "source": [
        "for i in (3,5,7):    # for 迴圈\r\n",
        "  print(i, end = '\\t')"
      ],
      "execution_count": null,
      "outputs": []
    },
    {
      "cell_type": "markdown",
      "metadata": {
        "id": "N4kgsjTqJm7e"
      },
      "source": [
        ">>位元運算子(將整數轉成二進位後進行運算，再將結果轉為十進位)"
      ]
    },
    {
      "cell_type": "code",
      "metadata": {
        "id": "OEzFH3KUJyYX"
      },
      "source": [
        "3 << 2  # 3 -> 00011\r\n",
        "      # 向左移兩位 01100 -> 12"
      ],
      "execution_count": null,
      "outputs": []
    },
    {
      "cell_type": "code",
      "metadata": {
        "id": "s2fciKflKFef"
      },
      "source": [
        "3 & 7    # 3 -> 00011\r\n",
        "       # 7 -> 000111   -> 00011(位元做交集) -> 3"
      ],
      "execution_count": null,
      "outputs": []
    },
    {
      "cell_type": "code",
      "metadata": {
        "id": "VlisEh0FKn5d"
      },
      "source": [
        "3 | 8  # 3 -> 00011\r\n",
        "     # 8 -> 001000   -> 001011(位元做聯集)  -> 11"
      ],
      "execution_count": null,
      "outputs": []
    },
    {
      "cell_type": "code",
      "metadata": {
        "id": "d5vwB_VAK79X"
      },
      "source": [
        "3 ^ 5  # 3 -> 00011\r\n",
        "     # 5 -> 000101    -> 000110(位元做異或) -> 6"
      ],
      "execution_count": null,
      "outputs": []
    },
    {
      "cell_type": "markdown",
      "metadata": {
        "id": "PyF4_1sAPr5F"
      },
      "source": [
        ">人機對話基本介面\r\n",
        "  input()"
      ]
    },
    {
      "cell_type": "code",
      "metadata": {
        "colab": {
          "base_uri": "https://localhost:8080/",
          "height": 52
        },
        "id": "zXeA1HOwPyJS",
        "outputId": "cf50c1a6-bdfb-48eb-8d67-364721b7ce6b"
      },
      "source": [
        "x=input('Please input:')   # Python 的input()一律為字串\r\n",
        "x"
      ],
      "execution_count": 7,
      "outputs": [
        {
          "output_type": "stream",
          "text": [
            "Please input:[1,2,3]\n"
          ],
          "name": "stdout"
        },
        {
          "output_type": "execute_result",
          "data": {
            "application/vnd.google.colaboratory.intrinsic+json": {
              "type": "string"
            },
            "text/plain": [
              "'[1,2,3]'"
            ]
          },
          "metadata": {
            "tags": []
          },
          "execution_count": 7
        }
      ]
    },
    {
      "cell_type": "code",
      "metadata": {
        "colab": {
          "base_uri": "https://localhost:8080/"
        },
        "id": "UfIkABDoP-jd",
        "outputId": "357b3f28-1f7d-4c82-9e8a-a92861f7782b"
      },
      "source": [
        "type(x)"
      ],
      "execution_count": 8,
      "outputs": [
        {
          "output_type": "execute_result",
          "data": {
            "text/plain": [
              "str"
            ]
          },
          "metadata": {
            "tags": []
          },
          "execution_count": 8
        }
      ]
    },
    {
      "cell_type": "code",
      "metadata": {
        "colab": {
          "base_uri": "https://localhost:8080/"
        },
        "id": "q-6rS2tSQB4d",
        "outputId": "8a57cb45-fd76-44fc-a7a9-f854d4bd2ca1"
      },
      "source": [
        "x=eval(x)    # 必要時可用eval()轉乘需要的資料型態\r\n",
        "x"
      ],
      "execution_count": 9,
      "outputs": [
        {
          "output_type": "execute_result",
          "data": {
            "text/plain": [
              "[1, 2, 3]"
            ]
          },
          "metadata": {
            "tags": []
          },
          "execution_count": 9
        }
      ]
    },
    {
      "cell_type": "code",
      "metadata": {
        "colab": {
          "base_uri": "https://localhost:8080/"
        },
        "id": "J9nxXL9lQJy9",
        "outputId": "57140b2f-c063-4e53-d34a-3597750b2c37"
      },
      "source": [
        "type(x)     # list也行"
      ],
      "execution_count": 10,
      "outputs": [
        {
          "output_type": "execute_result",
          "data": {
            "text/plain": [
              "list"
            ]
          },
          "metadata": {
            "tags": []
          },
          "execution_count": 10
        }
      ]
    },
    {
      "cell_type": "markdown",
      "metadata": {
        "id": "hNeaBqyNUOdN"
      },
      "source": [
        ">導入模組"
      ]
    },
    {
      "cell_type": "code",
      "metadata": {
        "colab": {
          "base_uri": "https://localhost:8080/"
        },
        "id": "3_olgnjRUT1k",
        "outputId": "92d9609e-337f-4d4a-cff4-40af070a9623"
      },
      "source": [
        "import math   # 匯入math模組\r\n",
        "math.sin(0.5)  # 使用math模組裡的sin函式"
      ],
      "execution_count": 24,
      "outputs": [
        {
          "output_type": "execute_result",
          "data": {
            "text/plain": [
              "0.479425538604203"
            ]
          },
          "metadata": {
            "tags": []
          },
          "execution_count": 24
        }
      ]
    },
    {
      "cell_type": "code",
      "metadata": {
        "colab": {
          "base_uri": "https://localhost:8080/"
        },
        "id": "mQyQVbeqUi7k",
        "outputId": "5a3d9ca2-fa0b-4921-8a99-d6887dcf40f2"
      },
      "source": [
        "import random        # 匯入random模組\r\n",
        "x = random.random()    # 使用random函式，從[0,1)內隨機取一小數\r\n",
        "n = random.randint(1,100) # 取得[1,100]區間內的隨機整數\r\n",
        "print(x)\r\n",
        "print(n)"
      ],
      "execution_count": 25,
      "outputs": [
        {
          "output_type": "stream",
          "text": [
            "0.8961088354139102\n",
            "58\n"
          ],
          "name": "stdout"
        }
      ]
    },
    {
      "cell_type": "code",
      "metadata": {
        "colab": {
          "base_uri": "https://localhost:8080/"
        },
        "id": "Ct5fc8IvVR53",
        "outputId": "f44d11ad-0df7-4a85-b8f2-5dbfa7f4929f"
      },
      "source": [
        "import numpy as np    # 匯入numpy模組，以np代表\r\n",
        "a = np.array((1,2,3,4))  # 使用array函式\r\n",
        "a"
      ],
      "execution_count": 26,
      "outputs": [
        {
          "output_type": "execute_result",
          "data": {
            "text/plain": [
              "array([1, 2, 3, 4])"
            ]
          },
          "metadata": {
            "tags": []
          },
          "execution_count": 26
        }
      ]
    },
    {
      "cell_type": "code",
      "metadata": {
        "colab": {
          "base_uri": "https://localhost:8080/"
        },
        "id": "i2S5p8q3Vp1s",
        "outputId": "246bb192-cb51-4162-ef60-0c7256765320"
      },
      "source": [
        "from math import sin  # 只從math匯入sin函式\r\n",
        "sin(3)          # 此舉能有效提高執行效率"
      ],
      "execution_count": 27,
      "outputs": [
        {
          "output_type": "execute_result",
          "data": {
            "text/plain": [
              "0.1411200080598672"
            ]
          },
          "metadata": {
            "tags": []
          },
          "execution_count": 27
        }
      ]
    },
    {
      "cell_type": "code",
      "metadata": {
        "colab": {
          "base_uri": "https://localhost:8080/"
        },
        "id": "4sjaD9ttV45k",
        "outputId": "26ef389f-b430-422d-b8d3-e086ce7e426f"
      },
      "source": [
        "from math import sin as f # 從math匯入sin，以f稱呼\r\n",
        "f(3)"
      ],
      "execution_count": 28,
      "outputs": [
        {
          "output_type": "execute_result",
          "data": {
            "text/plain": [
              "0.1411200080598672"
            ]
          },
          "metadata": {
            "tags": []
          },
          "execution_count": 28
        }
      ]
    }
  ]
}